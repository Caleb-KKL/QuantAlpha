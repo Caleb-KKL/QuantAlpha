{
  "nbformat": 4,
  "nbformat_minor": 0,
  "metadata": {
    "colab": {
      "provenance": []
    },
    "kernelspec": {
      "name": "python3",
      "display_name": "Python 3"
    },
    "language_info": {
      "name": "python"
    }
  },
  "cells": [
    {
      "cell_type": "markdown",
      "source": [
        "**Step 1 – Mount Google Drive & Setup & Libraries**"
      ],
      "metadata": {
        "id": "-mRCWjma5w_o"
      }
    },
    {
      "cell_type": "code",
      "execution_count": 18,
      "metadata": {
        "colab": {
          "base_uri": "https://localhost:8080/"
        },
        "id": "AkZv7voqWt7s",
        "outputId": "5ab15576-1024-4ac5-c8d5-89d4fab412e8"
      },
      "outputs": [
        {
          "output_type": "stream",
          "name": "stdout",
          "text": [
            "Drive already mounted at /content/drive; to attempt to forcibly remount, call drive.mount(\"/content/drive\", force_remount=True).\n"
          ]
        }
      ],
      "source": [
        "from google.colab import drive\n",
        "drive.mount('/content/drive')\n",
        "\n",
        "!pip install keras-tcn --quiet\n",
        "\n",
        "import pandas as pd, numpy as np, matplotlib.pyplot as plt, yfinance as yf\n",
        "from tensorflow.keras.models import Sequential\n",
        "from tensorflow.keras.layers import Dense, Dropout, Input\n",
        "from sklearn.preprocessing import MinMaxScaler\n",
        "from sklearn.metrics import mean_squared_error, mean_absolute_error\n",
        "from tensorflow.keras.callbacks import EarlyStopping, ReduceLROnPlateau\n",
        "from tcn import TCN"
      ]
    },
    {
      "cell_type": "code",
      "source": [
        "import os\n",
        "import numpy as np\n",
        "import random\n",
        "import tensorflow as tf\n",
        "\n",
        "# ============================\n",
        "# Global Configuration\n",
        "# ============================\n",
        "\n",
        "# Define base project folder\n",
        "BASE = \"/content/drive/My Drive/GoldForecasting_Project (ISY5002)\"\n",
        "DATA = os.path.join(BASE, \"Data\")\n",
        "MODELS = os.path.join(BASE, \"Models\", \"TCN\")\n",
        "OUT = os.path.join(BASE, \"Outputs\")\n",
        "\n",
        "# ----------------------------\n",
        "# Global Random Seed (for TCN_v2)\n",
        "# ----------------------------\n",
        "SEED = 99  # You can change this to any integer for your version control (e.g., 99 for TCN_v2)\n",
        "os.environ['PYTHONHASHSEED'] = str(SEED)\n",
        "np.random.seed(SEED)\n",
        "random.seed(SEED)\n",
        "tf.random.set_seed(SEED)\n",
        "\n",
        "print(f\"✅ Global SEED fixed at {SEED} for TCN_v2 reproducibility.\\n\")\n",
        "\n",
        "# ----------------------------\n",
        "# Print path summary\n",
        "# ----------------------------\n",
        "print(\"Paths set:\")\n",
        "print(\"DATA:\", DATA)\n",
        "print(\"MODELS:\", MODELS)\n",
        "print(\"OUTPUTS:\", OUT)\n"
      ],
      "metadata": {
        "colab": {
          "base_uri": "https://localhost:8080/"
        },
        "id": "VVgYFnUZXctN",
        "outputId": "2ef16728-67eb-4d58-b4ad-2841bfbe44dd"
      },
      "execution_count": 19,
      "outputs": [
        {
          "output_type": "stream",
          "name": "stdout",
          "text": [
            "✅ Global SEED fixed at 99 for TCN_v2 reproducibility.\n",
            "\n",
            "Paths set:\n",
            "DATA: /content/drive/My Drive/GoldForecasting_Project (ISY5002)/Data\n",
            "MODELS: /content/drive/My Drive/GoldForecasting_Project (ISY5002)/Models/TCN\n",
            "OUTPUTS: /content/drive/My Drive/GoldForecasting_Project (ISY5002)/Outputs\n"
          ]
        }
      ]
    },
    {
      "cell_type": "markdown",
      "source": [
        "**Step 2 – Load & Prepare Gold Dataset**"
      ],
      "metadata": {
        "id": "qTrw1Q7z6L4m"
      }
    },
    {
      "cell_type": "code",
      "source": [
        "# Download COMEX gold futures (GC=F)\n",
        "df = yf.download(\"GC=F\", start=\"2021-01-01\", end=\"2025-12-31\", interval=\"1d\")\n",
        "df.reset_index(inplace=True)\n",
        "df.rename(columns={'Adj Close': 'Adj_Close', 'Volume': 'Vol'}, inplace=True)\n",
        "\n",
        "# Add daily change %\n",
        "df['Change'] = df['Close'].pct_change() * 100\n",
        "df.dropna(inplace=True)\n",
        "\n",
        "print(\"Rows:\", len(df), \"Date range:\", df['Date'].min(), \"→\", df['Date'].max())\n",
        "df.head()\n"
      ],
      "metadata": {
        "id": "cRhH9VX1oNBF",
        "colab": {
          "base_uri": "https://localhost:8080/",
          "height": 307
        },
        "outputId": "47a06a01-7bbe-4be1-9ce7-a54323a92891"
      },
      "execution_count": 20,
      "outputs": [
        {
          "output_type": "stream",
          "name": "stderr",
          "text": [
            "/tmp/ipython-input-2989582751.py:2: FutureWarning: YF.download() has changed argument auto_adjust default to True\n",
            "  df = yf.download(\"GC=F\", start=\"2021-01-01\", end=\"2025-12-31\", interval=\"1d\")\n",
            "\r[*********************100%***********************]  1 of 1 completed"
          ]
        },
        {
          "output_type": "stream",
          "name": "stdout",
          "text": [
            "Rows: 1210 Date range: 2021-01-05 00:00:00 → 2025-10-24 00:00:00\n"
          ]
        },
        {
          "output_type": "stream",
          "name": "stderr",
          "text": [
            "\n"
          ]
        },
        {
          "output_type": "execute_result",
          "data": {
            "text/plain": [
              "Price        Date        Close         High          Low         Open  Vol  \\\n",
              "Ticker                    GC=F         GC=F         GC=F         GC=F GC=F   \n",
              "1      2021-01-05  1952.699951  1952.699951  1941.300049  1941.699951  113   \n",
              "2      2021-01-06  1906.900024  1959.900024  1901.500000  1952.000000  331   \n",
              "3      2021-01-07  1912.300049  1926.699951  1912.000000  1922.599976  122   \n",
              "4      2021-01-08  1834.099976  1908.000000  1834.099976  1908.000000   60   \n",
              "5      2021-01-11  1849.599976  1849.599976  1826.500000  1826.500000   20   \n",
              "\n",
              "Price     Change  \n",
              "Ticker            \n",
              "1       0.411375  \n",
              "2      -2.345467  \n",
              "3       0.283183  \n",
              "4      -4.089320  \n",
              "5       0.845101  "
            ],
            "text/html": [
              "\n",
              "  <div id=\"df-aebe2c9b-f0c4-4a2e-8106-0cb75736bbaa\" class=\"colab-df-container\">\n",
              "    <div>\n",
              "<style scoped>\n",
              "    .dataframe tbody tr th:only-of-type {\n",
              "        vertical-align: middle;\n",
              "    }\n",
              "\n",
              "    .dataframe tbody tr th {\n",
              "        vertical-align: top;\n",
              "    }\n",
              "\n",
              "    .dataframe thead tr th {\n",
              "        text-align: left;\n",
              "    }\n",
              "</style>\n",
              "<table border=\"1\" class=\"dataframe\">\n",
              "  <thead>\n",
              "    <tr>\n",
              "      <th>Price</th>\n",
              "      <th>Date</th>\n",
              "      <th>Close</th>\n",
              "      <th>High</th>\n",
              "      <th>Low</th>\n",
              "      <th>Open</th>\n",
              "      <th>Vol</th>\n",
              "      <th>Change</th>\n",
              "    </tr>\n",
              "    <tr>\n",
              "      <th>Ticker</th>\n",
              "      <th></th>\n",
              "      <th>GC=F</th>\n",
              "      <th>GC=F</th>\n",
              "      <th>GC=F</th>\n",
              "      <th>GC=F</th>\n",
              "      <th>GC=F</th>\n",
              "      <th></th>\n",
              "    </tr>\n",
              "  </thead>\n",
              "  <tbody>\n",
              "    <tr>\n",
              "      <th>1</th>\n",
              "      <td>2021-01-05</td>\n",
              "      <td>1952.699951</td>\n",
              "      <td>1952.699951</td>\n",
              "      <td>1941.300049</td>\n",
              "      <td>1941.699951</td>\n",
              "      <td>113</td>\n",
              "      <td>0.411375</td>\n",
              "    </tr>\n",
              "    <tr>\n",
              "      <th>2</th>\n",
              "      <td>2021-01-06</td>\n",
              "      <td>1906.900024</td>\n",
              "      <td>1959.900024</td>\n",
              "      <td>1901.500000</td>\n",
              "      <td>1952.000000</td>\n",
              "      <td>331</td>\n",
              "      <td>-2.345467</td>\n",
              "    </tr>\n",
              "    <tr>\n",
              "      <th>3</th>\n",
              "      <td>2021-01-07</td>\n",
              "      <td>1912.300049</td>\n",
              "      <td>1926.699951</td>\n",
              "      <td>1912.000000</td>\n",
              "      <td>1922.599976</td>\n",
              "      <td>122</td>\n",
              "      <td>0.283183</td>\n",
              "    </tr>\n",
              "    <tr>\n",
              "      <th>4</th>\n",
              "      <td>2021-01-08</td>\n",
              "      <td>1834.099976</td>\n",
              "      <td>1908.000000</td>\n",
              "      <td>1834.099976</td>\n",
              "      <td>1908.000000</td>\n",
              "      <td>60</td>\n",
              "      <td>-4.089320</td>\n",
              "    </tr>\n",
              "    <tr>\n",
              "      <th>5</th>\n",
              "      <td>2021-01-11</td>\n",
              "      <td>1849.599976</td>\n",
              "      <td>1849.599976</td>\n",
              "      <td>1826.500000</td>\n",
              "      <td>1826.500000</td>\n",
              "      <td>20</td>\n",
              "      <td>0.845101</td>\n",
              "    </tr>\n",
              "  </tbody>\n",
              "</table>\n",
              "</div>\n",
              "    <div class=\"colab-df-buttons\">\n",
              "\n",
              "  <div class=\"colab-df-container\">\n",
              "    <button class=\"colab-df-convert\" onclick=\"convertToInteractive('df-aebe2c9b-f0c4-4a2e-8106-0cb75736bbaa')\"\n",
              "            title=\"Convert this dataframe to an interactive table.\"\n",
              "            style=\"display:none;\">\n",
              "\n",
              "  <svg xmlns=\"http://www.w3.org/2000/svg\" height=\"24px\" viewBox=\"0 -960 960 960\">\n",
              "    <path d=\"M120-120v-720h720v720H120Zm60-500h600v-160H180v160Zm220 220h160v-160H400v160Zm0 220h160v-160H400v160ZM180-400h160v-160H180v160Zm440 0h160v-160H620v160ZM180-180h160v-160H180v160Zm440 0h160v-160H620v160Z\"/>\n",
              "  </svg>\n",
              "    </button>\n",
              "\n",
              "  <style>\n",
              "    .colab-df-container {\n",
              "      display:flex;\n",
              "      gap: 12px;\n",
              "    }\n",
              "\n",
              "    .colab-df-convert {\n",
              "      background-color: #E8F0FE;\n",
              "      border: none;\n",
              "      border-radius: 50%;\n",
              "      cursor: pointer;\n",
              "      display: none;\n",
              "      fill: #1967D2;\n",
              "      height: 32px;\n",
              "      padding: 0 0 0 0;\n",
              "      width: 32px;\n",
              "    }\n",
              "\n",
              "    .colab-df-convert:hover {\n",
              "      background-color: #E2EBFA;\n",
              "      box-shadow: 0px 1px 2px rgba(60, 64, 67, 0.3), 0px 1px 3px 1px rgba(60, 64, 67, 0.15);\n",
              "      fill: #174EA6;\n",
              "    }\n",
              "\n",
              "    .colab-df-buttons div {\n",
              "      margin-bottom: 4px;\n",
              "    }\n",
              "\n",
              "    [theme=dark] .colab-df-convert {\n",
              "      background-color: #3B4455;\n",
              "      fill: #D2E3FC;\n",
              "    }\n",
              "\n",
              "    [theme=dark] .colab-df-convert:hover {\n",
              "      background-color: #434B5C;\n",
              "      box-shadow: 0px 1px 3px 1px rgba(0, 0, 0, 0.15);\n",
              "      filter: drop-shadow(0px 1px 2px rgba(0, 0, 0, 0.3));\n",
              "      fill: #FFFFFF;\n",
              "    }\n",
              "  </style>\n",
              "\n",
              "    <script>\n",
              "      const buttonEl =\n",
              "        document.querySelector('#df-aebe2c9b-f0c4-4a2e-8106-0cb75736bbaa button.colab-df-convert');\n",
              "      buttonEl.style.display =\n",
              "        google.colab.kernel.accessAllowed ? 'block' : 'none';\n",
              "\n",
              "      async function convertToInteractive(key) {\n",
              "        const element = document.querySelector('#df-aebe2c9b-f0c4-4a2e-8106-0cb75736bbaa');\n",
              "        const dataTable =\n",
              "          await google.colab.kernel.invokeFunction('convertToInteractive',\n",
              "                                                    [key], {});\n",
              "        if (!dataTable) return;\n",
              "\n",
              "        const docLinkHtml = 'Like what you see? Visit the ' +\n",
              "          '<a target=\"_blank\" href=https://colab.research.google.com/notebooks/data_table.ipynb>data table notebook</a>'\n",
              "          + ' to learn more about interactive tables.';\n",
              "        element.innerHTML = '';\n",
              "        dataTable['output_type'] = 'display_data';\n",
              "        await google.colab.output.renderOutput(dataTable, element);\n",
              "        const docLink = document.createElement('div');\n",
              "        docLink.innerHTML = docLinkHtml;\n",
              "        element.appendChild(docLink);\n",
              "      }\n",
              "    </script>\n",
              "  </div>\n",
              "\n",
              "\n",
              "    <div id=\"df-256443b2-32b6-47ed-8224-0308546e7366\">\n",
              "      <button class=\"colab-df-quickchart\" onclick=\"quickchart('df-256443b2-32b6-47ed-8224-0308546e7366')\"\n",
              "                title=\"Suggest charts\"\n",
              "                style=\"display:none;\">\n",
              "\n",
              "<svg xmlns=\"http://www.w3.org/2000/svg\" height=\"24px\"viewBox=\"0 0 24 24\"\n",
              "     width=\"24px\">\n",
              "    <g>\n",
              "        <path d=\"M19 3H5c-1.1 0-2 .9-2 2v14c0 1.1.9 2 2 2h14c1.1 0 2-.9 2-2V5c0-1.1-.9-2-2-2zM9 17H7v-7h2v7zm4 0h-2V7h2v10zm4 0h-2v-4h2v4z\"/>\n",
              "    </g>\n",
              "</svg>\n",
              "      </button>\n",
              "\n",
              "<style>\n",
              "  .colab-df-quickchart {\n",
              "      --bg-color: #E8F0FE;\n",
              "      --fill-color: #1967D2;\n",
              "      --hover-bg-color: #E2EBFA;\n",
              "      --hover-fill-color: #174EA6;\n",
              "      --disabled-fill-color: #AAA;\n",
              "      --disabled-bg-color: #DDD;\n",
              "  }\n",
              "\n",
              "  [theme=dark] .colab-df-quickchart {\n",
              "      --bg-color: #3B4455;\n",
              "      --fill-color: #D2E3FC;\n",
              "      --hover-bg-color: #434B5C;\n",
              "      --hover-fill-color: #FFFFFF;\n",
              "      --disabled-bg-color: #3B4455;\n",
              "      --disabled-fill-color: #666;\n",
              "  }\n",
              "\n",
              "  .colab-df-quickchart {\n",
              "    background-color: var(--bg-color);\n",
              "    border: none;\n",
              "    border-radius: 50%;\n",
              "    cursor: pointer;\n",
              "    display: none;\n",
              "    fill: var(--fill-color);\n",
              "    height: 32px;\n",
              "    padding: 0;\n",
              "    width: 32px;\n",
              "  }\n",
              "\n",
              "  .colab-df-quickchart:hover {\n",
              "    background-color: var(--hover-bg-color);\n",
              "    box-shadow: 0 1px 2px rgba(60, 64, 67, 0.3), 0 1px 3px 1px rgba(60, 64, 67, 0.15);\n",
              "    fill: var(--button-hover-fill-color);\n",
              "  }\n",
              "\n",
              "  .colab-df-quickchart-complete:disabled,\n",
              "  .colab-df-quickchart-complete:disabled:hover {\n",
              "    background-color: var(--disabled-bg-color);\n",
              "    fill: var(--disabled-fill-color);\n",
              "    box-shadow: none;\n",
              "  }\n",
              "\n",
              "  .colab-df-spinner {\n",
              "    border: 2px solid var(--fill-color);\n",
              "    border-color: transparent;\n",
              "    border-bottom-color: var(--fill-color);\n",
              "    animation:\n",
              "      spin 1s steps(1) infinite;\n",
              "  }\n",
              "\n",
              "  @keyframes spin {\n",
              "    0% {\n",
              "      border-color: transparent;\n",
              "      border-bottom-color: var(--fill-color);\n",
              "      border-left-color: var(--fill-color);\n",
              "    }\n",
              "    20% {\n",
              "      border-color: transparent;\n",
              "      border-left-color: var(--fill-color);\n",
              "      border-top-color: var(--fill-color);\n",
              "    }\n",
              "    30% {\n",
              "      border-color: transparent;\n",
              "      border-left-color: var(--fill-color);\n",
              "      border-top-color: var(--fill-color);\n",
              "      border-right-color: var(--fill-color);\n",
              "    }\n",
              "    40% {\n",
              "      border-color: transparent;\n",
              "      border-right-color: var(--fill-color);\n",
              "      border-top-color: var(--fill-color);\n",
              "    }\n",
              "    60% {\n",
              "      border-color: transparent;\n",
              "      border-right-color: var(--fill-color);\n",
              "    }\n",
              "    80% {\n",
              "      border-color: transparent;\n",
              "      border-right-color: var(--fill-color);\n",
              "      border-bottom-color: var(--fill-color);\n",
              "    }\n",
              "    90% {\n",
              "      border-color: transparent;\n",
              "      border-bottom-color: var(--fill-color);\n",
              "    }\n",
              "  }\n",
              "</style>\n",
              "\n",
              "      <script>\n",
              "        async function quickchart(key) {\n",
              "          const quickchartButtonEl =\n",
              "            document.querySelector('#' + key + ' button');\n",
              "          quickchartButtonEl.disabled = true;  // To prevent multiple clicks.\n",
              "          quickchartButtonEl.classList.add('colab-df-spinner');\n",
              "          try {\n",
              "            const charts = await google.colab.kernel.invokeFunction(\n",
              "                'suggestCharts', [key], {});\n",
              "          } catch (error) {\n",
              "            console.error('Error during call to suggestCharts:', error);\n",
              "          }\n",
              "          quickchartButtonEl.classList.remove('colab-df-spinner');\n",
              "          quickchartButtonEl.classList.add('colab-df-quickchart-complete');\n",
              "        }\n",
              "        (() => {\n",
              "          let quickchartButtonEl =\n",
              "            document.querySelector('#df-256443b2-32b6-47ed-8224-0308546e7366 button');\n",
              "          quickchartButtonEl.style.display =\n",
              "            google.colab.kernel.accessAllowed ? 'block' : 'none';\n",
              "        })();\n",
              "      </script>\n",
              "    </div>\n",
              "\n",
              "    </div>\n",
              "  </div>\n"
            ],
            "application/vnd.google.colaboratory.intrinsic+json": {
              "type": "dataframe",
              "variable_name": "df",
              "summary": "{\n  \"name\": \"df\",\n  \"rows\": 1210,\n  \"fields\": [\n    {\n      \"column\": [\n        \"Date\",\n        \"\"\n      ],\n      \"properties\": {\n        \"dtype\": \"date\",\n        \"min\": \"2021-01-05 00:00:00\",\n        \"max\": \"2025-10-24 00:00:00\",\n        \"num_unique_values\": 1210,\n        \"samples\": [\n          \"2021-06-01 00:00:00\",\n          \"2022-09-22 00:00:00\",\n          \"2022-03-28 00:00:00\"\n        ],\n        \"semantic_type\": \"\",\n        \"description\": \"\"\n      }\n    },\n    {\n      \"column\": [\n        \"Close\",\n        \"GC=F\"\n      ],\n      \"properties\": {\n        \"dtype\": \"number\",\n        \"std\": 569.1700031383267,\n        \"min\": 1623.300048828125,\n        \"max\": 4336.39990234375,\n        \"num_unique_values\": 1117,\n        \"samples\": [\n          3318.800048828125,\n          1889.800048828125,\n          1854.0\n        ],\n        \"semantic_type\": \"\",\n        \"description\": \"\"\n      }\n    },\n    {\n      \"column\": [\n        \"High\",\n        \"GC=F\"\n      ],\n      \"properties\": {\n        \"dtype\": \"number\",\n        \"std\": 574.115423366453,\n        \"min\": 1623.300048828125,\n        \"max\": 4358.0,\n        \"num_unique_values\": 1114,\n        \"samples\": [\n          2734.5,\n          1899.699951171875,\n          4148.5\n        ],\n        \"semantic_type\": \"\",\n        \"description\": \"\"\n      }\n    },\n    {\n      \"column\": [\n        \"Low\",\n        \"GC=F\"\n      ],\n      \"properties\": {\n        \"dtype\": \"number\",\n        \"std\": 562.9637178367385,\n        \"min\": 1615.0999755859375,\n        \"max\": 4214.60009765625,\n        \"num_unique_values\": 1108,\n        \"samples\": [\n          1925.4000244140625,\n          2334.300048828125,\n          1712.0999755859375\n        ],\n        \"semantic_type\": \"\",\n        \"description\": \"\"\n      }\n    },\n    {\n      \"column\": [\n        \"Open\",\n        \"GC=F\"\n      ],\n      \"properties\": {\n        \"dtype\": \"number\",\n        \"std\": 567.9911366217486,\n        \"min\": 1620.4000244140625,\n        \"max\": 4354.7001953125,\n        \"num_unique_values\": 1107,\n        \"samples\": [\n          1844.0999755859375,\n          2965.800048828125,\n          1721.300048828125\n        ],\n        \"semantic_type\": \"\",\n        \"description\": \"\"\n      }\n    },\n    {\n      \"column\": [\n        \"Vol\",\n        \"GC=F\"\n      ],\n      \"properties\": {\n        \"dtype\": \"number\",\n        \"std\": 22064,\n        \"min\": 0,\n        \"max\": 209783,\n        \"num_unique_values\": 738,\n        \"samples\": [\n          536,\n          464,\n          223\n        ],\n        \"semantic_type\": \"\",\n        \"description\": \"\"\n      }\n    },\n    {\n      \"column\": [\n        \"Change\",\n        \"\"\n      ],\n      \"properties\": {\n        \"dtype\": \"number\",\n        \"std\": 0.9972621935818945,\n        \"min\": -5.735171035251085,\n        \"max\": 3.4965035779983777,\n        \"num_unique_values\": 1209,\n        \"samples\": [\n          0.02102625041064954,\n          0.372466258147397,\n          -0.726792552324107\n        ],\n        \"semantic_type\": \"\",\n        \"description\": \"\"\n      }\n    }\n  ]\n}"
            }
          },
          "metadata": {},
          "execution_count": 20
        }
      ]
    },
    {
      "cell_type": "markdown",
      "source": [
        "**Step 3 – Feature Selection & Scaling**"
      ],
      "metadata": {
        "id": "FfUvtR3P6apH"
      }
    },
    {
      "cell_type": "code",
      "source": [
        "features = ['Open','High','Low','Close','Change']\n",
        "target = 'Close'\n",
        "\n",
        "scaler = MinMaxScaler()\n",
        "scaled = scaler.fit_transform(df[features])\n",
        "\n",
        "print(\"Scaled shape:\", scaled.shape)\n"
      ],
      "metadata": {
        "colab": {
          "base_uri": "https://localhost:8080/"
        },
        "id": "Euy1k7pKoEu0",
        "outputId": "39565db9-d787-4f7a-fe6e-279bf3040c60"
      },
      "execution_count": 21,
      "outputs": [
        {
          "output_type": "stream",
          "name": "stdout",
          "text": [
            "Scaled shape: (1210, 5)\n"
          ]
        }
      ]
    },
    {
      "cell_type": "markdown",
      "source": [
        "**Step 4 – Create Sequences**"
      ],
      "metadata": {
        "id": "dEzBKt0a6qcl"
      }
    },
    {
      "cell_type": "code",
      "source": [
        "X, y = [], []\n",
        "seq_len = 20  # 20-day lookback\n",
        "\n",
        "for i in range(seq_len, len(scaled)):\n",
        "    X.append(scaled[i-seq_len:i])\n",
        "    y.append(scaled[i][features.index(target)])\n",
        "\n",
        "X, y = np.array(X), np.array(y)\n",
        "print(\"X:\", X.shape, \"| y:\", y.shape)\n"
      ],
      "metadata": {
        "id": "Ltk5I76HZgVh",
        "colab": {
          "base_uri": "https://localhost:8080/"
        },
        "outputId": "4575a170-8028-4c1b-ec02-f52580af6ff1"
      },
      "execution_count": 22,
      "outputs": [
        {
          "output_type": "stream",
          "name": "stdout",
          "text": [
            "X: (1190, 20, 5) | y: (1190,)\n"
          ]
        }
      ]
    },
    {
      "cell_type": "markdown",
      "source": [
        "**Step 5 – Train / Validation / Test Split**"
      ],
      "metadata": {
        "id": "S5edHPGl7AP2"
      }
    },
    {
      "cell_type": "code",
      "source": [
        "# STEP 5 – Train / Validation / Test Split (70/15/15) with SEED Reference\n",
        "\n",
        "# Ensure reproducibility (use same SEED defined earlier, e.g. SEED = 42)\n",
        "print(f\"Using SEED = {SEED} for dataset split consistency\")\n",
        "\n",
        "# Define split ratios\n",
        "train_ratio = 0.70\n",
        "val_ratio   = 0.15\n",
        "test_ratio  = 0.15  # implicitly 1 - train_ratio - val_ratio\n",
        "\n",
        "# Compute sizes\n",
        "total_samples = len(X)\n",
        "train_size = int(total_samples * train_ratio)\n",
        "val_size   = int(total_samples * val_ratio)\n",
        "test_size  = total_samples - train_size - val_size\n",
        "\n",
        "# Sequential split (no shuffle, important for time series forecasting)\n",
        "X_train, y_train = X[:train_size], y[:train_size]\n",
        "X_val,   y_val   = X[train_size:train_size + val_size], y[train_size:train_size + val_size]\n",
        "X_test,  y_test  = X[train_size + val_size:], y[train_size + val_size:]\n",
        "\n",
        "# Display shapes\n",
        "print(\"Train:\", X_train.shape, \"| Val:\", X_val.shape, \"| Test:\", X_test.shape)\n"
      ],
      "metadata": {
        "id": "axGpf5OXfTd_",
        "colab": {
          "base_uri": "https://localhost:8080/"
        },
        "outputId": "eab0b8b2-d8d2-48d2-c377-9460790737c8"
      },
      "execution_count": 23,
      "outputs": [
        {
          "output_type": "stream",
          "name": "stdout",
          "text": [
            "Using SEED = 99 for dataset split consistency\n",
            "Train: (833, 20, 5) | Val: (178, 20, 5) | Test: (179, 20, 5)\n"
          ]
        }
      ]
    },
    {
      "cell_type": "markdown",
      "source": [
        "**Step 6 – Build Simplified TCN**"
      ],
      "metadata": {
        "id": "7Jle1jO08QXR"
      }
    },
    {
      "cell_type": "code",
      "source": [
        "from tensorflow.keras.models import Sequential\n",
        "from tensorflow.keras.layers import Dense, Dropout, Input\n",
        "from tcn import TCN\n",
        "\n",
        "model = Sequential([\n",
        "    Input(shape=(X_train.shape[1], X_train.shape[2])),\n",
        "    TCN(nb_filters=64, kernel_size=3, dilations=(1, 2, 4, 8), dropout_rate=0.1),\n",
        "    Dense(32, activation='relu'),\n",
        "    Dropout(0.1),\n",
        "    Dense(1, activation='linear')  # <--- use linear for regression (no cutoff)\n",
        "])\n",
        "\n",
        "model.compile(optimizer='adam', loss='mse')\n",
        "model.summary()\n"
      ],
      "metadata": {
        "id": "bzM1yVlZ7FQi",
        "colab": {
          "base_uri": "https://localhost:8080/",
          "height": 277
        },
        "outputId": "eb8b0700-9471-479c-9e98-8bff3b22c825"
      },
      "execution_count": 24,
      "outputs": [
        {
          "output_type": "display_data",
          "data": {
            "text/plain": [
              "\u001b[1mModel: \"sequential_1\"\u001b[0m\n"
            ],
            "text/html": [
              "<pre style=\"white-space:pre;overflow-x:auto;line-height:normal;font-family:Menlo,'DejaVu Sans Mono',consolas,'Courier New',monospace\"><span style=\"font-weight: bold\">Model: \"sequential_1\"</span>\n",
              "</pre>\n"
            ]
          },
          "metadata": {}
        },
        {
          "output_type": "display_data",
          "data": {
            "text/plain": [
              "┏━━━━━━━━━━━━━━━━━━━━━━━━━━━━━━━━━┳━━━━━━━━━━━━━━━━━━━━━━━━┳━━━━━━━━━━━━━━━┓\n",
              "┃\u001b[1m \u001b[0m\u001b[1mLayer (type)                   \u001b[0m\u001b[1m \u001b[0m┃\u001b[1m \u001b[0m\u001b[1mOutput Shape          \u001b[0m\u001b[1m \u001b[0m┃\u001b[1m \u001b[0m\u001b[1m      Param #\u001b[0m\u001b[1m \u001b[0m┃\n",
              "┡━━━━━━━━━━━━━━━━━━━━━━━━━━━━━━━━━╇━━━━━━━━━━━━━━━━━━━━━━━━╇━━━━━━━━━━━━━━━┩\n",
              "│ tcn_1 (\u001b[38;5;33mTCN\u001b[0m)                     │ (\u001b[38;5;45mNone\u001b[0m, \u001b[38;5;34m64\u001b[0m)             │        \u001b[38;5;34m87,872\u001b[0m │\n",
              "├─────────────────────────────────┼────────────────────────┼───────────────┤\n",
              "│ dense_2 (\u001b[38;5;33mDense\u001b[0m)                 │ (\u001b[38;5;45mNone\u001b[0m, \u001b[38;5;34m32\u001b[0m)             │         \u001b[38;5;34m2,080\u001b[0m │\n",
              "├─────────────────────────────────┼────────────────────────┼───────────────┤\n",
              "│ dropout_1 (\u001b[38;5;33mDropout\u001b[0m)             │ (\u001b[38;5;45mNone\u001b[0m, \u001b[38;5;34m32\u001b[0m)             │             \u001b[38;5;34m0\u001b[0m │\n",
              "├─────────────────────────────────┼────────────────────────┼───────────────┤\n",
              "│ dense_3 (\u001b[38;5;33mDense\u001b[0m)                 │ (\u001b[38;5;45mNone\u001b[0m, \u001b[38;5;34m1\u001b[0m)              │            \u001b[38;5;34m33\u001b[0m │\n",
              "└─────────────────────────────────┴────────────────────────┴───────────────┘\n"
            ],
            "text/html": [
              "<pre style=\"white-space:pre;overflow-x:auto;line-height:normal;font-family:Menlo,'DejaVu Sans Mono',consolas,'Courier New',monospace\">┏━━━━━━━━━━━━━━━━━━━━━━━━━━━━━━━━━┳━━━━━━━━━━━━━━━━━━━━━━━━┳━━━━━━━━━━━━━━━┓\n",
              "┃<span style=\"font-weight: bold\"> Layer (type)                    </span>┃<span style=\"font-weight: bold\"> Output Shape           </span>┃<span style=\"font-weight: bold\">       Param # </span>┃\n",
              "┡━━━━━━━━━━━━━━━━━━━━━━━━━━━━━━━━━╇━━━━━━━━━━━━━━━━━━━━━━━━╇━━━━━━━━━━━━━━━┩\n",
              "│ tcn_1 (<span style=\"color: #0087ff; text-decoration-color: #0087ff\">TCN</span>)                     │ (<span style=\"color: #00d7ff; text-decoration-color: #00d7ff\">None</span>, <span style=\"color: #00af00; text-decoration-color: #00af00\">64</span>)             │        <span style=\"color: #00af00; text-decoration-color: #00af00\">87,872</span> │\n",
              "├─────────────────────────────────┼────────────────────────┼───────────────┤\n",
              "│ dense_2 (<span style=\"color: #0087ff; text-decoration-color: #0087ff\">Dense</span>)                 │ (<span style=\"color: #00d7ff; text-decoration-color: #00d7ff\">None</span>, <span style=\"color: #00af00; text-decoration-color: #00af00\">32</span>)             │         <span style=\"color: #00af00; text-decoration-color: #00af00\">2,080</span> │\n",
              "├─────────────────────────────────┼────────────────────────┼───────────────┤\n",
              "│ dropout_1 (<span style=\"color: #0087ff; text-decoration-color: #0087ff\">Dropout</span>)             │ (<span style=\"color: #00d7ff; text-decoration-color: #00d7ff\">None</span>, <span style=\"color: #00af00; text-decoration-color: #00af00\">32</span>)             │             <span style=\"color: #00af00; text-decoration-color: #00af00\">0</span> │\n",
              "├─────────────────────────────────┼────────────────────────┼───────────────┤\n",
              "│ dense_3 (<span style=\"color: #0087ff; text-decoration-color: #0087ff\">Dense</span>)                 │ (<span style=\"color: #00d7ff; text-decoration-color: #00d7ff\">None</span>, <span style=\"color: #00af00; text-decoration-color: #00af00\">1</span>)              │            <span style=\"color: #00af00; text-decoration-color: #00af00\">33</span> │\n",
              "└─────────────────────────────────┴────────────────────────┴───────────────┘\n",
              "</pre>\n"
            ]
          },
          "metadata": {}
        },
        {
          "output_type": "display_data",
          "data": {
            "text/plain": [
              "\u001b[1m Total params: \u001b[0m\u001b[38;5;34m89,985\u001b[0m (351.50 KB)\n"
            ],
            "text/html": [
              "<pre style=\"white-space:pre;overflow-x:auto;line-height:normal;font-family:Menlo,'DejaVu Sans Mono',consolas,'Courier New',monospace\"><span style=\"font-weight: bold\"> Total params: </span><span style=\"color: #00af00; text-decoration-color: #00af00\">89,985</span> (351.50 KB)\n",
              "</pre>\n"
            ]
          },
          "metadata": {}
        },
        {
          "output_type": "display_data",
          "data": {
            "text/plain": [
              "\u001b[1m Trainable params: \u001b[0m\u001b[38;5;34m89,985\u001b[0m (351.50 KB)\n"
            ],
            "text/html": [
              "<pre style=\"white-space:pre;overflow-x:auto;line-height:normal;font-family:Menlo,'DejaVu Sans Mono',consolas,'Courier New',monospace\"><span style=\"font-weight: bold\"> Trainable params: </span><span style=\"color: #00af00; text-decoration-color: #00af00\">89,985</span> (351.50 KB)\n",
              "</pre>\n"
            ]
          },
          "metadata": {}
        },
        {
          "output_type": "display_data",
          "data": {
            "text/plain": [
              "\u001b[1m Non-trainable params: \u001b[0m\u001b[38;5;34m0\u001b[0m (0.00 B)\n"
            ],
            "text/html": [
              "<pre style=\"white-space:pre;overflow-x:auto;line-height:normal;font-family:Menlo,'DejaVu Sans Mono',consolas,'Courier New',monospace\"><span style=\"font-weight: bold\"> Non-trainable params: </span><span style=\"color: #00af00; text-decoration-color: #00af00\">0</span> (0.00 B)\n",
              "</pre>\n"
            ]
          },
          "metadata": {}
        }
      ]
    },
    {
      "cell_type": "markdown",
      "source": [
        "**Step 7 – Train Model**"
      ],
      "metadata": {
        "id": "3IBTH1EExZ7l"
      }
    },
    {
      "cell_type": "code",
      "source": [
        "callbacks = [\n",
        "    EarlyStopping(monitor='val_loss', patience=5, restore_best_weights=True),\n",
        "    ReduceLROnPlateau(monitor='val_loss', factor=0.5, patience=3, min_lr=1e-6)\n",
        "]\n",
        "\n",
        "history = model.fit(\n",
        "    X_train, y_train,\n",
        "    epochs=50,\n",
        "    batch_size=32,\n",
        "    validation_data=(X_val, y_val),\n",
        "    callbacks=callbacks,\n",
        "    verbose=1,\n",
        "    shuffle=False\n",
        ")\n"
      ],
      "metadata": {
        "colab": {
          "base_uri": "https://localhost:8080/"
        },
        "id": "3Is2hyPG8brE",
        "outputId": "d6912349-9034-440f-acc7-d85f3195bf85"
      },
      "execution_count": 25,
      "outputs": [
        {
          "output_type": "stream",
          "name": "stdout",
          "text": [
            "Epoch 1/50\n",
            "\u001b[1m27/27\u001b[0m \u001b[32m━━━━━━━━━━━━━━━━━━━━\u001b[0m\u001b[37m\u001b[0m \u001b[1m6s\u001b[0m 40ms/step - loss: 0.4421 - val_loss: 0.0031 - learning_rate: 0.0010\n",
            "Epoch 2/50\n",
            "\u001b[1m27/27\u001b[0m \u001b[32m━━━━━━━━━━━━━━━━━━━━\u001b[0m\u001b[37m\u001b[0m \u001b[1m1s\u001b[0m 24ms/step - loss: 0.0281 - val_loss: 0.0197 - learning_rate: 0.0010\n",
            "Epoch 3/50\n",
            "\u001b[1m27/27\u001b[0m \u001b[32m━━━━━━━━━━━━━━━━━━━━\u001b[0m\u001b[37m\u001b[0m \u001b[1m1s\u001b[0m 25ms/step - loss: 0.0190 - val_loss: 0.0280 - learning_rate: 0.0010\n",
            "Epoch 4/50\n",
            "\u001b[1m27/27\u001b[0m \u001b[32m━━━━━━━━━━━━━━━━━━━━\u001b[0m\u001b[37m\u001b[0m \u001b[1m1s\u001b[0m 24ms/step - loss: 0.0093 - val_loss: 0.0013 - learning_rate: 0.0010\n",
            "Epoch 5/50\n",
            "\u001b[1m27/27\u001b[0m \u001b[32m━━━━━━━━━━━━━━━━━━━━\u001b[0m\u001b[37m\u001b[0m \u001b[1m1s\u001b[0m 24ms/step - loss: 0.0069 - val_loss: 0.0017 - learning_rate: 0.0010\n",
            "Epoch 6/50\n",
            "\u001b[1m27/27\u001b[0m \u001b[32m━━━━━━━━━━━━━━━━━━━━\u001b[0m\u001b[37m\u001b[0m \u001b[1m1s\u001b[0m 25ms/step - loss: 0.0045 - val_loss: 0.0053 - learning_rate: 0.0010\n",
            "Epoch 7/50\n",
            "\u001b[1m27/27\u001b[0m \u001b[32m━━━━━━━━━━━━━━━━━━━━\u001b[0m\u001b[37m\u001b[0m \u001b[1m1s\u001b[0m 24ms/step - loss: 0.0055 - val_loss: 0.0023 - learning_rate: 0.0010\n",
            "Epoch 8/50\n",
            "\u001b[1m27/27\u001b[0m \u001b[32m━━━━━━━━━━━━━━━━━━━━\u001b[0m\u001b[37m\u001b[0m \u001b[1m1s\u001b[0m 24ms/step - loss: 0.0034 - val_loss: 0.0090 - learning_rate: 5.0000e-04\n",
            "Epoch 9/50\n",
            "\u001b[1m27/27\u001b[0m \u001b[32m━━━━━━━━━━━━━━━━━━━━\u001b[0m\u001b[37m\u001b[0m \u001b[1m1s\u001b[0m 31ms/step - loss: 0.0028 - val_loss: 0.0041 - learning_rate: 5.0000e-04\n"
          ]
        }
      ]
    },
    {
      "cell_type": "markdown",
      "source": [
        "**Step 8 – Predict & Evaluate**"
      ],
      "metadata": {
        "id": "rKSvfmzi0qX-"
      }
    },
    {
      "cell_type": "code",
      "source": [
        "# ============================================================\n",
        "# Step 8 – Predict & Evaluate (on scaled data)\n",
        "# ============================================================\n",
        "\n",
        "y_pred = model.predict(X_test)\n",
        "\n",
        "from sklearn.metrics import mean_squared_error, mean_absolute_error\n",
        "rmse = np.sqrt(mean_squared_error(y_test, y_pred))\n",
        "mae  = mean_absolute_error(y_test, y_pred)\n",
        "mape = np.mean(np.abs((y_test - y_pred) / (np.abs(y_test) + 1e-8))) * 100\n",
        "\n",
        "print(f\"RMSE (scaled): {rmse:.4f} | MAE: {mae:.4f} | MAPE: {mape:.2f}%\")\n"
      ],
      "metadata": {
        "colab": {
          "base_uri": "https://localhost:8080/"
        },
        "id": "TfQO-IDy1ccL",
        "outputId": "c68424f2-7912-4231-c6d6-0afa35f45b10"
      },
      "execution_count": 26,
      "outputs": [
        {
          "output_type": "stream",
          "name": "stdout",
          "text": [
            "\u001b[1m6/6\u001b[0m \u001b[32m━━━━━━━━━━━━━━━━━━━━\u001b[0m\u001b[37m\u001b[0m \u001b[1m2s\u001b[0m 252ms/step\n",
            "RMSE (scaled): 0.0735 | MAE: 0.0558 | MAPE: 18.62%\n"
          ]
        }
      ]
    },
    {
      "cell_type": "markdown",
      "source": [
        "**Step 9 – Inverse Transform (Back to USD)**"
      ],
      "metadata": {
        "id": "LmEoxK8W1VnK"
      }
    },
    {
      "cell_type": "code",
      "source": [
        "# ============================================================\n",
        "# Step 9 – Inverse Transform (Back to USD)\n",
        "# ============================================================\n",
        "\n",
        "def inverse_transform(values):\n",
        "    dummy = np.zeros((len(values), len(features)))\n",
        "    dummy[:, features.index(target)] = values.reshape(-1)\n",
        "    return scaler.inverse_transform(dummy)[:, features.index(target)]\n",
        "\n",
        "actual_usd = inverse_transform(y_test)\n",
        "pred_usd   = inverse_transform(y_pred)\n",
        "\n",
        "# Optional: light smoothing\n",
        "pred_usd = pd.Series(pred_usd).rolling(window=3, center=True).mean().bfill().ffill()\n"
      ],
      "metadata": {
        "id": "Ga90pc301qLB"
      },
      "execution_count": 27,
      "outputs": []
    },
    {
      "cell_type": "markdown",
      "source": [
        "**Step 10 – Plot Actual vs Predicted with Red Dotted Line**"
      ],
      "metadata": {
        "id": "iuYhF4JE_f8C"
      }
    },
    {
      "cell_type": "code",
      "source": [
        "# ============================================================\n",
        "# Step 10 – Plot Actual vs Predicted (Red Dotted)\n",
        "# ============================================================\n",
        "\n",
        "plt.figure(figsize=(12,6))\n",
        "plt.plot(actual_usd, color='black', label='Actual (USD)', linewidth=2)\n",
        "plt.plot(pred_usd, color='red', linestyle='--', label='Predicted (USD)', linewidth=2)\n",
        "\n",
        "# Add last point connector\n",
        "plt.scatter(len(actual_usd)-1, actual_usd[-1], color='black', s=70, label=\"Last Actual\")\n",
        "plt.scatter(len(actual_usd)-1, pred_usd.iloc[-1], color='red', s=70, label=\"Last Predicted\")\n",
        "plt.plot([len(actual_usd)-1, len(actual_usd)-1],\n",
        "         [actual_usd[-1], pred_usd.iloc[-1]], color='red', linestyle='dotted', linewidth=2)\n",
        "\n",
        "plt.title(\"TCN v2.1 – Spot Gold Forecast vs Actual (Smoothed)\", fontsize=13)\n",
        "plt.xlabel(\"Test Samples\"); plt.ylabel(\"Gold Price (USD)\")\n",
        "plt.legend(); plt.grid(alpha=0.3); plt.tight_layout()\n",
        "plt.show()\n"
      ],
      "metadata": {
        "colab": {
          "base_uri": "https://localhost:8080/",
          "height": 607
        },
        "id": "9MXzhOY35sp1",
        "outputId": "d2b2c2aa-ed6a-488c-aa5d-114397aa5de9"
      },
      "execution_count": 28,
      "outputs": [
        {
          "output_type": "display_data",
          "data": {
            "text/plain": [
              "<Figure size 1200x600 with 1 Axes>"
            ],
            "image/png": "[encoded data removed]"
          },
          "metadata": {}
        }
      ]
    },
    {
      "cell_type": "markdown",
      "source": [
        "**Step 11 – Directional Accuracy & Confusion Matrix**"
      ],
      "metadata": {
        "id": "9ZxQpPf4Am9X"
      }
    },
    {
      "cell_type": "code",
      "source": [
        "from sklearn.metrics import accuracy_score, confusion_matrix, ConfusionMatrixDisplay\n",
        "import matplotlib.pyplot as plt\n",
        "import numpy as np\n",
        "\n",
        "# --- Ensure both arrays are NumPy arrays (not pandas Series) ---\n",
        "actual_arr = np.array(actual_usd).flatten()\n",
        "pred_arr   = np.array(pred_usd).flatten()\n",
        "\n",
        "# --- Convert to binary direction (Up=1, Down=0) ---\n",
        "actual_direction = (actual_arr[1:] > actual_arr[:-1]).astype(int)\n",
        "predicted_direction = (pred_arr[1:] > pred_arr[:-1]).astype(int)\n",
        "\n",
        "# --- Directional Accuracy ---\n",
        "directional_acc = accuracy_score(actual_direction, predicted_direction) * 100\n",
        "print(f\"Directional Accuracy: {directional_acc:.2f}%\")\n",
        "\n",
        "# --- Confusion Matrix ---\n",
        "cm = confusion_matrix(actual_direction, predicted_direction)\n",
        "disp = ConfusionMatrixDisplay(confusion_matrix=cm, display_labels=[\"Down\", \"Up\"])\n",
        "\n",
        "# --- Plot ---\n",
        "fig, ax = plt.subplots(figsize=(5, 4))\n",
        "disp.plot(ax=ax, cmap=plt.cm.Blues, colorbar=False)\n",
        "plt.title(\"Confusion Matrix (Up/Down Direction)\")\n",
        "plt.xlabel(\"Predicted Direction\")\n",
        "plt.ylabel(\"Actual Direction\")\n",
        "plt.grid(False)\n",
        "plt.show()\n"
      ],
      "metadata": {
        "colab": {
          "base_uri": "https://localhost:8080/",
          "height": 427
        },
        "id": "-0g5Zu6oey1f",
        "outputId": "c183392e-4c4f-4385-fde3-e89a3ba57948"
      },
      "execution_count": 29,
      "outputs": [
        {
          "output_type": "stream",
          "name": "stdout",
          "text": [
            "Directional Accuracy: 61.80%\n"
          ]
        },
        {
          "output_type": "display_data",
          "data": {
            "text/plain": [
              "<Figure size 500x400 with 1 Axes>"
            ],
            "image/png": "[encoded data removed]"
          },
          "metadata": {}
        }
      ]
    },
    {
      "cell_type": "markdown",
      "source": [
        "**Step 12 – Export Results + Save TCN_v2 Model (.keras + .joblib+.csv+requirements)**"
      ],
      "metadata": {
        "id": "GuFyQNW0tPpd"
      }
    },
    {
      "cell_type": "code",
      "source": [
        "# STEP 12 – Export Results + Save + Download TCN_v2 Model (.keras + .joblib + .csv + requirements)\n",
        "from google.colab import files\n",
        "from joblib import dump\n",
        "import pandas as pd\n",
        "import os\n",
        "\n",
        "# ====================================\n",
        "# 1️⃣ Prepare results DataFrame\n",
        "# ====================================\n",
        "test_start_idx = seq_len + len(X_train) + len(X_val)\n",
        "test_dates = df['Date'].iloc[test_start_idx:].reset_index(drop=True)\n",
        "\n",
        "output_df = pd.DataFrame({\n",
        "    'Date': test_dates,\n",
        "    'Actual_Close_USD': actual_usd.ravel(),\n",
        "    'Predicted_Close_USD': pred_usd.ravel()\n",
        "})\n",
        "\n",
        "# Save predictions CSV\n",
        "csv_name = \"tcn_v2_improved_output.csv\"\n",
        "csv_path = os.path.join(MODELS, csv_name)\n",
        "output_df.to_csv(csv_path, index=False)\n",
        "print(f\"✅ Results saved to {csv_path}\")\n",
        "\n",
        "# ====================================\n",
        "# 2️⃣ Save model in both formats (.keras & .joblib)\n",
        "# ====================================\n",
        "keras_name = \"tcn_v2_improved.keras\"\n",
        "keras_path = os.path.join(MODELS, keras_name)\n",
        "model.save(keras_path)\n",
        "print(f\"✅ Model saved as {keras_path}\")\n",
        "\n",
        "joblib_name = \"tcn_v2_improved.joblib\"\n",
        "joblib_path = os.path.join(MODELS, joblib_name)\n",
        "dump(model, joblib_path)\n",
        "print(f\"✅ Model also saved as {joblib_path}\")\n",
        "\n",
        "# ====================================\n",
        "# 3️⃣ Generate & Save requirements file\n",
        "# ====================================\n",
        "req_name = \"requirements_tcn_v2.txt\"\n",
        "req_path = os.path.join(MODELS, req_name)\n",
        "!pip freeze > \"{req_path}\"\n",
        "print(f\"✅ Requirements saved as {req_path}\")\n",
        "\n",
        "# ====================================\n",
        "# 4️⃣ Download all files to local system (optional)\n",
        "# ====================================\n",
        "files.download(csv_path)\n",
        "files.download(keras_path)\n",
        "files.download(joblib_path)\n",
        "files.download(req_path)\n",
        "print(\"📥 All files downloaded successfully to your local machine.\")\n"
      ],
      "metadata": {
        "colab": {
          "base_uri": "https://localhost:8080/",
          "height": 138
        },
        "id": "QNW19EHetLc3",
        "outputId": "389b6c16-e441-48a9-d3c3-c537bcc2b94f"
      },
      "execution_count": 30,
      "outputs": [
        {
          "output_type": "stream",
          "name": "stderr",
          "text": [
            "/tmp/ipython-input-1747813549.py:16: FutureWarning: Series.ravel is deprecated. The underlying array is already 1D, so ravel is not necessary.  Use `to_numpy()` for conversion to a numpy array instead.\n",
            "  'Predicted_Close_USD': pred_usd.ravel()\n"
          ]
        },
        {
          "output_type": "stream",
          "name": "stdout",
          "text": [
            "✅ Results saved to /content/drive/My Drive/GoldForecasting_Project (ISY5002)/Models/TCN/tcn_v2_improved_output.csv\n",
            "✅ Model saved as /content/drive/My Drive/GoldForecasting_Project (ISY5002)/Models/TCN/tcn_v2_improved.keras\n",
            "✅ Model also saved as /content/drive/My Drive/GoldForecasting_Project (ISY5002)/Models/TCN/tcn_v2_improved.joblib\n",
            "✅ Requirements saved as /content/drive/My Drive/GoldForecasting_Project (ISY5002)/Models/TCN/requirements_tcn_v2.txt\n"
          ]
        },
        {
          "output_type": "display_data",
          "data": {
            "text/plain": [
              "<IPython.core.display.Javascript object>"
            ],
            "application/javascript": [
              "\n",
              "    async function download(id, filename, size) {\n",
              "      if (!google.colab.kernel.accessAllowed) {\n",
              "        return;\n",
              "      }\n",
              "      const div = document.createElement('div');\n",
              "      const label = document.createElement('label');\n",
              "      label.textContent = `Downloading \"${filename}\": `;\n",
              "      div.appendChild(label);\n",
              "      const progress = document.createElement('progress');\n",
              "      progress.max = size;\n",
              "      div.appendChild(progress);\n",
              "      document.body.appendChild(div);\n",
              "\n",
              "      const buffers = [];\n",
              "      let downloaded = 0;\n",
              "\n",
              "      const channel = await google.colab.kernel.comms.open(id);\n",
              "      // Send a message to notify the kernel that we're ready.\n",
              "      channel.send({})\n",
              "\n",
              "      for await (const message of channel.messages) {\n",
              "        // Send a message to notify the kernel that we're ready.\n",
              "        channel.send({})\n",
              "        if (message.buffers) {\n",
              "          for (const buffer of message.buffers) {\n",
              "            buffers.push(buffer);\n",
              "            downloaded += buffer.byteLength;\n",
              "            progress.value = downloaded;\n",
              "          }\n",
              "        }\n",
              "      }\n",
              "      const blob = new Blob(buffers, {type: 'application/binary'});\n",
              "      const a = document.createElement('a');\n",
              "      a.href = window.URL.createObjectURL(blob);\n",
              "      a.download = filename;\n",
              "      div.appendChild(a);\n",
              "      a.click();\n",
              "      div.remove();\n",
              "    }\n",
              "  "
            ]
          },
          "metadata": {}
        },
        {
          "output_type": "display_data",
          "data": {
            "text/plain": [
              "<IPython.core.display.Javascript object>"
            ],
            "application/javascript": [
              "download(\"download_c69b5a29-5cff-4645-a6fb-4b47f57b215e\", \"tcn_v2_improved_output.csv\", 8171)"
            ]
          },
          "metadata": {}
        },
        {
          "output_type": "display_data",
          "data": {
            "text/plain": [
              "<IPython.core.display.Javascript object>"
            ],
            "application/javascript": [
              "\n",
              "    async function download(id, filename, size) {\n",
              "      if (!google.colab.kernel.accessAllowed) {\n",
              "        return;\n",
              "      }\n",
              "      const div = document.createElement('div');\n",
              "      const label = document.createElement('label');\n",
              "      label.textContent = `Downloading \"${filename}\": `;\n",
              "      div.appendChild(label);\n",
              "      const progress = document.createElement('progress');\n",
              "      progress.max = size;\n",
              "      div.appendChild(progress);\n",
              "      document.body.appendChild(div);\n",
              "\n",
              "      const buffers = [];\n",
              "      let downloaded = 0;\n",
              "\n",
              "      const channel = await google.colab.kernel.comms.open(id);\n",
              "      // Send a message to notify the kernel that we're ready.\n",
              "      channel.send({})\n",
              "\n",
              "      for await (const message of channel.messages) {\n",
              "        // Send a message to notify the kernel that we're ready.\n",
              "        channel.send({})\n",
              "        if (message.buffers) {\n",
              "          for (const buffer of message.buffers) {\n",
              "            buffers.push(buffer);\n",
              "            downloaded += buffer.byteLength;\n",
              "            progress.value = downloaded;\n",
              "          }\n",
              "        }\n",
              "      }\n",
              "      const blob = new Blob(buffers, {type: 'application/binary'});\n",
              "      const a = document.createElement('a');\n",
              "      a.href = window.URL.createObjectURL(blob);\n",
              "      a.download = filename;\n",
              "      div.appendChild(a);\n",
              "      a.click();\n",
              "      div.remove();\n",
              "    }\n",
              "  "
            ]
          },
          "metadata": {}
        },
        {
          "output_type": "display_data",
          "data": {
            "text/plain": [
              "<IPython.core.display.Javascript object>"
            ],
            "application/javascript": [
              "download(\"download_b7678c3e-94cf-4bbc-bf7d-5ae912cc3673\", \"tcn_v2_improved.keras\", 1203884)"
            ]
          },
          "metadata": {}
        },
        {
          "output_type": "display_data",
          "data": {
            "text/plain": [
              "<IPython.core.display.Javascript object>"
            ],
            "application/javascript": [
              "\n",
              "    async function download(id, filename, size) {\n",
              "      if (!google.colab.kernel.accessAllowed) {\n",
              "        return;\n",
              "      }\n",
              "      const div = document.createElement('div');\n",
              "      const label = document.createElement('label');\n",
              "      label.textContent = `Downloading \"${filename}\": `;\n",
              "      div.appendChild(label);\n",
              "      const progress = document.createElement('progress');\n",
              "      progress.max = size;\n",
              "      div.appendChild(progress);\n",
              "      document.body.appendChild(div);\n",
              "\n",
              "      const buffers = [];\n",
              "      let downloaded = 0;\n",
              "\n",
              "      const channel = await google.colab.kernel.comms.open(id);\n",
              "      // Send a message to notify the kernel that we're ready.\n",
              "      channel.send({})\n",
              "\n",
              "      for await (const message of channel.messages) {\n",
              "        // Send a message to notify the kernel that we're ready.\n",
              "        channel.send({})\n",
              "        if (message.buffers) {\n",
              "          for (const buffer of message.buffers) {\n",
              "            buffers.push(buffer);\n",
              "            downloaded += buffer.byteLength;\n",
              "            progress.value = downloaded;\n",
              "          }\n",
              "        }\n",
              "      }\n",
              "      const blob = new Blob(buffers, {type: 'application/binary'});\n",
              "      const a = document.createElement('a');\n",
              "      a.href = window.URL.createObjectURL(blob);\n",
              "      a.download = filename;\n",
              "      div.appendChild(a);\n",
              "      a.click();\n",
              "      div.remove();\n",
              "    }\n",
              "  "
            ]
          },
          "metadata": {}
        },
        {
          "output_type": "display_data",
          "data": {
            "text/plain": [
              "<IPython.core.display.Javascript object>"
            ],
            "application/javascript": [
              "download(\"download_96e54121-c31b-4d19-a3f1-803397b48001\", \"tcn_v2_improved.joblib\", 1204614)"
            ]
          },
          "metadata": {}
        },
        {
          "output_type": "display_data",
          "data": {
            "text/plain": [
              "<IPython.core.display.Javascript object>"
            ],
            "application/javascript": [
              "\n",
              "    async function download(id, filename, size) {\n",
              "      if (!google.colab.kernel.accessAllowed) {\n",
              "        return;\n",
              "      }\n",
              "      const div = document.createElement('div');\n",
              "      const label = document.createElement('label');\n",
              "      label.textContent = `Downloading \"${filename}\": `;\n",
              "      div.appendChild(label);\n",
              "      const progress = document.createElement('progress');\n",
              "      progress.max = size;\n",
              "      div.appendChild(progress);\n",
              "      document.body.appendChild(div);\n",
              "\n",
              "      const buffers = [];\n",
              "      let downloaded = 0;\n",
              "\n",
              "      const channel = await google.colab.kernel.comms.open(id);\n",
              "      // Send a message to notify the kernel that we're ready.\n",
              "      channel.send({})\n",
              "\n",
              "      for await (const message of channel.messages) {\n",
              "        // Send a message to notify the kernel that we're ready.\n",
              "        channel.send({})\n",
              "        if (message.buffers) {\n",
              "          for (const buffer of message.buffers) {\n",
              "            buffers.push(buffer);\n",
              "            downloaded += buffer.byteLength;\n",
              "            progress.value = downloaded;\n",
              "          }\n",
              "        }\n",
              "      }\n",
              "      const blob = new Blob(buffers, {type: 'application/binary'});\n",
              "      const a = document.createElement('a');\n",
              "      a.href = window.URL.createObjectURL(blob);\n",
              "      a.download = filename;\n",
              "      div.appendChild(a);\n",
              "      a.click();\n",
              "      div.remove();\n",
              "    }\n",
              "  "
            ]
          },
          "metadata": {}
        },
        {
          "output_type": "display_data",
          "data": {
            "text/plain": [
              "<IPython.core.display.Javascript object>"
            ],
            "application/javascript": [
              "download(\"download_1ba1a986-3e60-456c-938f-033dfa4edfae\", \"requirements_tcn_v2.txt\", 14009)"
            ]
          },
          "metadata": {}
        },
        {
          "output_type": "stream",
          "name": "stdout",
          "text": [
            "📥 All files downloaded successfully to your local machine.\n"
          ]
        }
      ]
    }
  ]
}